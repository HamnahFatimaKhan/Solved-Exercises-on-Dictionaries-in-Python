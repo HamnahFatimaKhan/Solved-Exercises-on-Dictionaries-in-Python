{
 "cells": [
  {
   "cell_type": "code",
   "execution_count": 8,
   "id": "c3bc1f09-22af-44c7-ae95-c6f051966b45",
   "metadata": {},
   "outputs": [
    {
     "name": "stdout",
     "output_type": "stream",
     "text": [
      "Person Information:\n",
      "Name: John Smith\n",
      "Age: 30\n",
      "City: New York\n",
      "Hobbies: ['reading', 'cycling', 'coding']\n"
     ]
    }
   ],
   "source": [
    "#                                                     HAmnah Ftima Khan\n",
    "#                                                      FA24-BBD-031\n",
    "# (a) Create a dictionary to store information about a person\n",
    "person = {\n",
    "    \"name\": \"John Smith\",\n",
    "    \"age\": 30,\n",
    "    \"city\": \"New York\",\n",
    "    \"hobbies\": [\"reading\", \"cycling\", \"coding\"]\n",
    "}\n",
    "print(\"Person Information:\")\n",
    "for key, value in person.items():\n",
    "    print(f\"{key.capitalize()}: {value}\")"
   ]
  },
  {
   "cell_type": "code",
   "execution_count": 4,
   "id": "f77a4f6d-d54c-4d77-aa76-9cbbd826c4db",
   "metadata": {},
   "outputs": [
    {
     "name": "stdout",
     "output_type": "stream",
     "text": [
      "\n",
      "Word Frequency:\n",
      "python: 3\n",
      "is: 3\n",
      "fun: 1\n",
      "and: 1\n",
      "easy: 1\n",
      "to: 1\n",
      "learn: 1\n",
      "versatile: 1\n"
     ]
    }
   ],
   "source": [
    "# (b) Program to count the frequency of words in a given text\n",
    "\n",
    "text = \"Python is fun, and Python is easy to learn. Python is versatile!\"\n",
    "\n",
    "word_count = {}\n",
    "words = text.lower().split()\n",
    "\n",
    "for word in words:\n",
    "    cleaned_word = word.strip(\",.!?\")\n",
    "    word_count[cleaned_word] = word_count.get(cleaned_word, 0) + 1\n",
    "\n",
    "# Display word frequency\n",
    "print(\"\\nWord Frequency:\")\n",
    "for word, count in word_count.items():\n",
    "    print(f\"{word}: {count}\")\n",
    "\n"
   ]
  },
  {
   "cell_type": "code",
   "execution_count": 12,
   "id": "5a171bed-7198-4e11-8d3d-817e6196cf1f",
   "metadata": {},
   "outputs": [
    {
     "name": "stdout",
     "output_type": "stream",
     "text": [
      "Added 10 apple(s).\n",
      "Removed 5 banana(s).\n",
      "\n",
      "Inventory:\n",
      "apple: 60\n",
      "banana: 15\n",
      "orange: 30\n"
     ]
    }
   ],
   "source": [
    "# (c) Implement a simple inventory system using dictionaries\n",
    "\n",
    "inventory = {\n",
    "    \"apple\": 50,\n",
    "    \"banana\": 20,\n",
    "    \"orange\": 30\n",
    "}\n",
    "\n",
    "# Functions for inventory operations\n",
    "def add_item(item, quantity):\n",
    "    inventory[item] = inventory.get(item, 0) + quantity\n",
    "    print(f\"Added {quantity} {item}(s).\")\n",
    "\n",
    "def remove_item(item, quantity):\n",
    "    if item in inventory:\n",
    "        inventory[item] = max(0, inventory[item] - quantity)\n",
    "        print(f\"Removed {quantity} {item}(s).\")\n",
    "    else:\n",
    "        print(f\"{item} not found in inventory.\")\n",
    "\n",
    "def display_inventory():\n",
    "    print(\"\\nInventory:\")\n",
    "    for item, qty in inventory.items():\n",
    "        print(f\"{item}: {qty}\")\n",
    "\n",
    "# Example usage\n",
    "add_item(\"apple\", 10)\n",
    "remove_item(\"banana\", 5)\n",
    "display_inventory()\n"
   ]
  },
  {
   "cell_type": "code",
   "execution_count": 14,
   "id": "fef953b1-d19b-4950-b9f0-58a49ba763cc",
   "metadata": {},
   "outputs": [
    {
     "name": "stdout",
     "output_type": "stream",
     "text": [
      "\n",
      "Most Popular Category:\n",
      "Electronics (3 orders)\n"
     ]
    }
   ],
   "source": [
    "# (d) Analyze a dataset of customer orders to find the most popular product category\n",
    "orders = [\n",
    "    {\"order_id\": 1, \"product\": \"Laptop\", \"category\": \"Electronics\"},\n",
    "    {\"order_id\": 2, \"product\": \"Shoes\", \"category\": \"Fashion\"},\n",
    "    {\"order_id\": 3, \"product\": \"Phone\", \"category\": \"Electronics\"},\n",
    "    {\"order_id\": 4, \"product\": \"Shirt\", \"category\": \"Fashion\"},\n",
    "    {\"order_id\": 5, \"product\": \"Headphones\", \"category\": \"Electronics\"}\n",
    "]\n",
    "\n",
    "# Count the number of orders per category\n",
    "category_count = {}\n",
    "for order in orders:\n",
    "    category = order[\"category\"]\n",
    "    category_count[category] = category_count.get(category, 0) + 1\n",
    "\n",
    "# Find the most popular category\n",
    "most_popular_category = max(category_count, key=category_count.get)\n",
    "\n",
    "print(\"\\nMost Popular Category:\")\n",
    "print(f\"{most_popular_category} ({category_count[most_popular_category]} orders)\")"
   ]
  },
  {
   "cell_type": "code",
   "execution_count": 16,
   "id": "99857d13-1b58-4e4b-94eb-3ccf999f3041",
   "metadata": {},
   "outputs": [
    {
     "name": "stdout",
     "output_type": "stream",
     "text": [
      "\n",
      "Student Grades:\n",
      "Alice: 92\n",
      "Bob: 85\n",
      "Charlie: 88\n",
      "Diana: 90\n",
      "\n",
      "Average Grade: 88.75\n"
     ]
    }
   ],
   "source": [
    "# (e) Create a dictionary to store student grades and calculate the average grade\n",
    "grades = {\n",
    "    \"Alice\": 92,\n",
    "    \"Bob\": 85,\n",
    "    \"Charlie\": 88,\n",
    "    \"Diana\": 90\n",
    "}\n",
    "\n",
    "# Calculate the average grade\n",
    "average = sum(grades.values()) / len(grades)\n",
    "\n",
    "# Display student grades and average\n",
    "print(\"\\nStudent Grades:\")\n",
    "for student, grade in grades.items():\n",
    "    print(f\"{student}: {grade}\")\n",
    "\n",
    "print(f\"\\nAverage Grade: {average:.2f}\")\n",
    "\n"
   ]
  },
  {
   "cell_type": "code",
   "execution_count": 18,
   "id": "567d42e2-8019-49f0-8f9f-a85954bbe724",
   "metadata": {},
   "outputs": [
    {
     "name": "stdout",
     "output_type": "stream",
     "text": [
      "Product 'Apple' added successfully.\n",
      "Product 'Banana' added successfully.\n",
      "Product 'Orange' added successfully.\n",
      "Updated quantity for 'Banana' to 8.\n",
      "Product ID 'P004' not found.\n",
      "\n",
      "Total Inventory Value: $8.00\n",
      "\n",
      "Low-Stock Items (Threshold: 4):\n",
      "ID: P003, Name: Orange, Quantity: 2\n"
     ]
    }
   ],
   "source": [
    "# (f) Inventory Management\n",
    "inventory = {}\n",
    "\n",
    "# Function to add a new product\n",
    "def add_product(product_id, name, quantity, price):\n",
    "    if product_id in inventory:\n",
    "        print(f\"Product ID '{product_id}' already exists. Use update_product to modify it.\")\n",
    "    else:\n",
    "        inventory[product_id] = {\"name\": name, \"quantity\": quantity, \"price\": price}\n",
    "        print(f\"Product '{name}' added successfully.\")\n",
    "\n",
    "# Function to update product quantities\n",
    "def update_product_quantity(product_id, quantity):\n",
    "    if product_id in inventory:\n",
    "        inventory[product_id][\"quantity\"] += quantity\n",
    "        print(f\"Updated quantity for '{inventory[product_id]['name']}' to {inventory[product_id]['quantity']}.\")\n",
    "    else:\n",
    "        print(f\"Product ID '{product_id}' not found.\")\n",
    "\n",
    "# Function to calculate total inventory value\n",
    "def calculate_inventory_value():\n",
    "    total_value = sum(item[\"quantity\"] * item[\"price\"] for item in inventory.values())\n",
    "    print(f\"\\nTotal Inventory Value: ${total_value:.2f}\")\n",
    "    return total_value\n",
    "\n",
    "# Function to generate a report of low-stock items\n",
    "def low_stock_report(threshold=5):\n",
    "    print(\"\\nLow-Stock Items (Threshold: {}):\".format(threshold))\n",
    "    low_stock_items = {pid: details for pid, details in inventory.items() if details[\"quantity\"] < threshold}\n",
    "    if low_stock_items:\n",
    "        for pid, details in low_stock_items.items():\n",
    "            print(f\"ID: {pid}, Name: {details['name']}, Quantity: {details['quantity']}\")\n",
    "    else:\n",
    "        print(\"No low-stock items found.\")\n",
    "\n",
    "# Example Usage\n",
    "add_product(\"P001\", \"Apple\", 10, 0.5)\n",
    "add_product(\"P002\", \"Banana\", 3, 0.2)\n",
    "add_product(\"P003\", \"Orange\", 2, 0.7)\n",
    "\n",
    "update_product_quantity(\"P002\", 5)\n",
    "update_product_quantity(\"P004\", 10)  # Attempt to update a non-existent product\n",
    "\n",
    "calculate_inventory_value()\n",
    "\n",
    "low_stock_report(threshold=4)  # Generate low-stock report\n"
   ]
  },
  {
   "cell_type": "code",
   "execution_count": 20,
   "id": "f1cae3a2-e739-40ea-bd51-0ed258f82f51",
   "metadata": {},
   "outputs": [
    {
     "name": "stdout",
     "output_type": "stream",
     "text": [
      "Average grades for each student:\n",
      "Alice: 85.00\n",
      "Bob: 87.33\n",
      "Charlie: 86.67\n",
      "\n",
      "Highest grade in Math: 90\n",
      "Lowest grade in Math: 76\n",
      "\n",
      "Students sorted by their average grades:\n",
      "Bob: 87.33\n",
      "Charlie: 86.67\n",
      "Alice: 85.00\n"
     ]
    }
   ],
   "source": [
    "# (g) Student Gradebook\n",
    "students = {\n",
    "    \"Alice\": {\"Math\": 85, \"English\": 78, \"Science\": 92},\n",
    "    \"Bob\": {\"Math\": 90, \"English\": 88, \"Science\": 84},\n",
    "    \"Charlie\": {\"Math\": 76, \"English\": 95, \"Science\": 89},\n",
    "}\n",
    "\n",
    "# Calculate the average grade for each student\n",
    "average_grades = {}\n",
    "for name, grades in students.items():\n",
    "    average_grades[name] = sum(grades.values()) / len(grades)\n",
    "\n",
    "# Display average grades\n",
    "print(\"Average grades for each student:\")\n",
    "for name, avg in average_grades.items():\n",
    "    print(f\"{name}: {avg:.2f}\")\n",
    "\n",
    "# Find the highest and lowest grades in a specific subject\n",
    "subject = \"Math\"  # Specify the subject\n",
    "grades_in_subject = {name: grades[subject] for name, grades in students.items()}\n",
    "highest_grade = max(grades_in_subject.values())\n",
    "lowest_grade = min(grades_in_subject.values())\n",
    "\n",
    "print(f\"\\nHighest grade in {subject}: {highest_grade}\")\n",
    "print(f\"Lowest grade in {subject}: {lowest_grade}\")\n",
    "\n",
    "# Sort students by their average grades\n",
    "sorted_students = sorted(average_grades.items(), key=lambda x: x[1], reverse=True)\n",
    "\n",
    "print(\"\\nStudents sorted by their average grades:\")\n",
    "for name, avg in sorted_students:\n",
    "    print(f\"{name}: {avg:.2f}\")"
   ]
  },
  {
   "cell_type": "code",
   "execution_count": null,
   "id": "3ad0188e-48fd-43c3-a8b7-b78c0d90453e",
   "metadata": {},
   "outputs": [
    {
     "name": "stdout",
     "output_type": "stream",
     "text": [
      "\n",
      "Options: 1) Display Products 2) Add to Cart 3) Remove from Cart 4) View Cart 5) Checkout 6) Exit\n"
     ]
    },
    {
     "name": "stdin",
     "output_type": "stream",
     "text": [
      "Enter your choice:  4\n"
     ]
    },
    {
     "name": "stdout",
     "output_type": "stream",
     "text": [
      "\n",
      "Cart Items:\n",
      "\n",
      "Options: 1) Display Products 2) Add to Cart 3) Remove from Cart 4) View Cart 5) Checkout 6) Exit\n"
     ]
    },
    {
     "name": "stdin",
     "output_type": "stream",
     "text": [
      "Enter your choice:  3\n",
      "Enter product name:  34\n",
      "Enter quantity:  65\n"
     ]
    },
    {
     "name": "stdout",
     "output_type": "stream",
     "text": [
      "Product not in cart or invalid quantity for: 34\n",
      "\n",
      "Options: 1) Display Products 2) Add to Cart 3) Remove from Cart 4) View Cart 5) Checkout 6) Exit\n"
     ]
    }
   ],
   "source": [
    "# (h) Dictionary to store product information\n",
    "products = {\n",
    "    \"Laptop\": {\"price\": 1000, \"quantity\": 5},\n",
    "    \"Smartphone\": {\"price\": 700, \"quantity\": 10},\n",
    "    \"Headphones\": {\"price\": 100, \"quantity\": 20},\n",
    "}\n",
    "\n",
    "# Shopping cart to store user-selected products\n",
    "cart = {}\n",
    "\n",
    "# Function to display products\n",
    "def display_products():\n",
    "    print(\"\\nAvailable Products:\")\n",
    "    for name, details in products.items():\n",
    "        print(f\"{name} - Price: ${details['price']}, Quantity Available: {details['quantity']}\")\n",
    "\n",
    "# Function to add a product to the cart\n",
    "def add_to_cart(product_name, quantity):\n",
    "    if product_name in products and products[product_name][\"quantity\"] >= quantity:\n",
    "        if product_name in cart:\n",
    "            cart[product_name][\"quantity\"] += quantity\n",
    "        else:\n",
    "            cart[product_name] = {\"price\": products[product_name][\"price\"], \"quantity\": quantity}\n",
    "        products[product_name][\"quantity\"] -= quantity\n",
    "        print(f\"Added {quantity} x {product_name} to the cart.\")\n",
    "    else:\n",
    "        print(f\"Insufficient stock or product not found for: {product_name}\")\n",
    "\n",
    "# Function to remove a product from the cart\n",
    "def remove_from_cart(product_name, quantity):\n",
    "    if product_name in cart and cart[product_name][\"quantity\"] >= quantity:\n",
    "        cart[product_name][\"quantity\"] -= quantity\n",
    "        products[product_name][\"quantity\"] += quantity\n",
    "        if cart[product_name][\"quantity\"] == 0:\n",
    "            del cart[product_name]\n",
    "        print(f\"Removed {quantity} x {product_name} from the cart.\")\n",
    "    else:\n",
    "        print(f\"Product not in cart or invalid quantity for: {product_name}\")\n",
    "\n",
    "# Function to calculate total cost, applying discounts and taxes\n",
    "def calculate_total(discount=0, tax_rate=0):\n",
    "    subtotal = sum(item[\"price\"] * item[\"quantity\"] for item in cart.values())\n",
    "    discount_amount = subtotal * (discount / 100)\n",
    "    tax_amount = (subtotal - discount_amount) * (tax_rate / 100)\n",
    "    total = subtotal - discount_amount + tax_amount\n",
    "    return subtotal, discount_amount, tax_amount, total\n",
    "\n",
    "# Main program loop\n",
    "while True:\n",
    "    print(\"\\nOptions: 1) Display Products 2) Add to Cart 3) Remove from Cart 4) View Cart 5) Checkout 6) Exit\")\n",
    "    choice = input(\"Enter your choice: \")\n",
    "\n",
    "    if choice == \"1\":\n",
    "        display_products()\n",
    "    elif choice == \"2\":\n",
    "        product_name = input(\"Enter product name: \")\n",
    "        quantity = int(input(\"Enter quantity: \"))\n",
    "        add_to_cart(product_name, quantity)\n",
    "    elif choice == \"3\":\n",
    "        product_name = input(\"Enter product name: \")\n",
    "        quantity = int(input(\"Enter quantity: \"))\n",
    "        remove_from_cart(product_name, quantity)\n",
    "    elif choice == \"4\":\n",
    "        print(\"\\nCart Items:\")\n",
    "        for name, details in cart.items():\n",
    "            print(f\"{name} - Quantity: {details['quantity']}, Price per item: ${details['price']}\")\n",
    "    elif choice == \"5\":\n",
    "        discount = float(input(\"Enter discount percentage: \"))\n",
    "        tax_rate = float(input(\"Enter tax rate percentage: \"))\n",
    "        subtotal, discount_amount, tax_amount, total = calculate_total(discount, tax_rate)\n",
    "        print(f\"\\nSubtotal: ${subtotal:.2f}\")\n",
    "        print(f\"Discount: -${discount_amount:.2f}\")\n",
    "        print(f\"Tax: +${tax_amount:.2f}\")\n",
    "        print(f\"Total: ${total:.2f}\")\n",
    "        break\n",
    "    elif choice == \"6\":\n",
    "        print(\"Exiting... Thank you!\")\n",
    "        break\n",
    "    else:\n",
    "        print(\"Invalid choice. Please try again.\")\n",
    "\n"
   ]
  }
 ],
 "metadata": {
  "kernelspec": {
   "display_name": "Python 3 (ipykernel)",
   "language": "python",
   "name": "python3"
  },
  "language_info": {
   "codemirror_mode": {
    "name": "ipython",
    "version": 3
   },
   "file_extension": ".py",
   "mimetype": "text/x-python",
   "name": "python",
   "nbconvert_exporter": "python",
   "pygments_lexer": "ipython3",
   "version": "3.12.7"
  }
 },
 "nbformat": 4,
 "nbformat_minor": 5
}
